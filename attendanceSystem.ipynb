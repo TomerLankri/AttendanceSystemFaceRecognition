{
 "cells": [
  {
   "cell_type": "code",
   "execution_count": 1,
   "metadata": {},
   "outputs": [],
   "source": [
    "# Say we need to develop a smart attendance system using AI.\n",
    "# Create a system that accepts two IP cameras for Login/Logout doors, each camera will detect the face  \n",
    "# and search in faces DB,then save when attending and when leaving!\n",
    "\n",
    "# Assumption 1 - A DB of the group's faces images. Say we have N people in the group.\n",
    "# Assumption 2 - There is no other exit to the classroomm meaning going in the class will show you once on \n",
    "# the login camera and going out will show you once in the logout camera\n",
    "\n",
    "# The way i decided to implement this is to train a CNN the receives the input from the cameras, \n",
    "# The CNN will be trained on detecting faces and classifing them to one of the faces that appear in the DB\n",
    "# The CNN output layer should use softmax with N nodes to give probabillity which one of the faces is the face \n",
    "# in the picture recieved by the camera.\n",
    "\n",
    "# We will use the chokepoint dataset - https://arma.sourceforge.net/chokepoint\n",
    "# With PiE being login camera and PiL being logout camera.\n",
    "from tensorflow import keras\n",
    "import tensorflow as tf\n",
    "\n"
   ]
  },
  {
   "cell_type": "code",
   "execution_count": 2,
   "metadata": {},
   "outputs": [],
   "source": [
    "pathsToDB = [\n",
    "    \"FaceDetectionDB/P1E_S1/P1E_S1_C1\",\n",
    "    \"FaceDetectionDB/P1E_S2/P1E_S2_C1\",\n",
    "    \"FaceDetectionDB/P1E_S3/P1E_S3_C1\",\n",
    "    \"FaceDetectionDB/P1E_S4/P1E_S4_C1\",\n",
    "#     \"FaceDetectionDB/P1L_S1/P1L_S1_C1\",\n",
    "#     \"FaceDetectionDB/P1L_S2/P1L_S2_C1\",\n",
    "#     \"FaceDetectionDB/P1L_S3/P1L_S3_C1\",\n",
    "#     \"FaceDetectionDB/P1L_S4/P1L_S4_C1\",\n",
    "]"
   ]
  },
  {
   "cell_type": "code",
   "execution_count": 3,
   "metadata": {},
   "outputs": [
    {
     "name": "stdout",
     "output_type": "stream",
     "text": [
      "FaceDetectionDB/P1E_S1/P1E_S1_C1\n",
      "FaceDetectionDB/P1E_S2/P1E_S2_C1\n",
      "FaceDetectionDB/P1E_S3/P1E_S3_C1\n",
      "FaceDetectionDB/P1E_S4/P1E_S4_C1\n"
     ]
    }
   ],
   "source": [
    "from PIL import Image\n",
    "import numpy\n",
    "import os\n",
    "X = []\n",
    "for path in pathsToDB:\n",
    "    print(path)\n",
    "    imgs = os.listdir(path)\n",
    "    imgs.sort()\n",
    "    for img in imgs:\n",
    "        if img[-1] != \"g\":\n",
    "            continue\n",
    "        p = path + \"/\" + img\n",
    "        imgFile = Image.open(p)        \n",
    "        X.append(numpy.array(imgFile))\n"
   ]
  },
  {
   "cell_type": "code",
   "execution_count": 5,
   "metadata": {},
   "outputs": [],
   "source": [
    "#Create DB\n",
    "# This DB was taken from https://arma.sourceforge.net/chokepoint/#download\n",
    "from xml.dom import minidom\n",
    "import numpy as np\n",
    "\n",
    "\n",
    "# parse xml file by name\n",
    "\n",
    "def containsPerson(frame):\n",
    "    return 1 if frame.childNodes else 0\n",
    "\n",
    "\n",
    "def returnLabel(frame): return int(frame.childNodes[1].attributes['id'].value) if frame.childNodes else 0\n",
    "\n",
    "\n",
    "def getLabelsForFrames(xmlFilePath):\n",
    "    file = minidom.parse(xmlFilePath)\n",
    "    frames = file.getElementsByTagName('frame')\n",
    "    y_contains_person = np.array([containsPerson(frame) for frame in frames])\n",
    "    y_label = np.array([returnLabel(frame) for frame in frames])\n",
    "    return y_contains_person, y_label\n",
    "\n",
    "\n",
    "yE1s1_contains, yE1s1_label = getLabelsForFrames(\"groundtruth/P1E_S1_C1.xml\")\n",
    "yE1s2_contains, yE1s2_label = getLabelsForFrames(\"groundtruth/P1E_S2_C1.xml\")\n",
    "yE1s3_contains, yE1s3_label = getLabelsForFrames(\"groundtruth/P1E_S3_C1.xml\")\n",
    "yE1s4_contains, yE1s4_label = getLabelsForFrames(\"groundtruth/P1E_S4_C1.xml\")\n",
    "# yEContains = np.concatenate((yE1s1_contains,yE1s2_contains,yE1s3_contains,yE1s4_contains))\n",
    "yElabels = np.concatenate((yE1s1_label, yE1s2_label, yE1s3_label,yE1s4_label))\n",
    "# yL1s1_contains, yL1s1_label = getLabelsForFrames(\"groundtruth/P1L_S1_C1.xml\")\n",
    "# yL1s2_contains, yL1s2_label = getLabelsForFrames(\"groundtruth/P1L_S2_C1.xml\")\n",
    "# yL1s3_contains, yL1s3_label = getLabelsForFrames(\"groundtruth/P1L_S3_C1.xml\")\n",
    "# yL1s4_contains, yL1s4_label = getLabelsForFrames(\"groundtruth/P1L_S4_C1.xml\")\n",
    "# yLContains = np.concatenate((yL1s1_contains, yL1s2_contains, yL1s3_contains, yL1s4_contains))\n",
    "# yLlabels = np.concatenate((yL1s1_label, yL1s2_label, yL1s3_label, yL1s4_label))\n"
   ]
  },
  {
   "cell_type": "code",
   "execution_count": 7,
   "metadata": {},
   "outputs": [],
   "source": [
    "import numpy\n",
    "import tensorflow as tf\n",
    "# y = np.concatenate((yElabels,yLlabels))\n",
    "y=yElabels"
   ]
  },
  {
   "cell_type": "code",
   "execution_count": 8,
   "metadata": {
    "scrolled": false
   },
   "outputs": [
    {
     "data": {
      "text/plain": [
       "9487"
      ]
     },
     "execution_count": 8,
     "metadata": {},
     "output_type": "execute_result"
    }
   ],
   "source": [
    "len(y)"
   ]
  },
  {
   "cell_type": "code",
   "execution_count": 9,
   "metadata": {},
   "outputs": [
    {
     "data": {
      "text/plain": [
       "9487"
      ]
     },
     "execution_count": 9,
     "metadata": {},
     "output_type": "execute_result"
    }
   ],
   "source": [
    "len(X)"
   ]
  },
  {
   "cell_type": "code",
   "execution_count": 10,
   "metadata": {
    "scrolled": true
   },
   "outputs": [],
   "source": [
    "from sklearn.model_selection import train_test_split\n",
    "X_train, X_test, y_train, y_test = train_test_split(X, y, test_size=0.2, random_state=42)\n",
    "X_train, X_val, y_train, y_val = train_test_split(X_train, y_train, test_size=0.2, random_state=42)"
   ]
  },
  {
   "cell_type": "code",
   "execution_count": 11,
   "metadata": {
    "scrolled": true
   },
   "outputs": [
    {
     "data": {
      "text/plain": [
       "9487"
      ]
     },
     "execution_count": 11,
     "metadata": {},
     "output_type": "execute_result"
    }
   ],
   "source": [
    "len(X)"
   ]
  },
  {
   "cell_type": "code",
   "execution_count": 12,
   "metadata": {
    "scrolled": false
   },
   "outputs": [],
   "source": [
    "X_train = np.array(X_train)\n",
    "X_val = np.array(X_val)\n",
    "X_test = np.array(X_test)\n"
   ]
  },
  {
   "cell_type": "code",
   "execution_count": 13,
   "metadata": {},
   "outputs": [
    {
     "name": "stderr",
     "output_type": "stream",
     "text": [
      "2023-02-21 11:21:21.656866: I tensorflow/core/platform/cpu_feature_guard.cc:193] This TensorFlow binary is optimized with oneAPI Deep Neural Network Library (oneDNN) to use the following CPU instructions in performance-critical operations:  SSE4.1 SSE4.2\n",
      "To enable them in other operations, rebuild TensorFlow with the appropriate compiler flags.\n"
     ]
    }
   ],
   "source": [
    "def preprocess(image):\n",
    "    resized_image = tf.image.resize(image, [299, 299])\n",
    "    final_image = keras.applications.xception.preprocess_input(resized_image) \n",
    "    return final_image\n",
    "X_val_1 = preprocess(X_val)"
   ]
  },
  {
   "cell_type": "code",
   "execution_count": 14,
   "metadata": {},
   "outputs": [],
   "source": [
    "X_train_1 = preprocess(X_train)"
   ]
  },
  {
   "cell_type": "code",
   "execution_count": 15,
   "metadata": {},
   "outputs": [],
   "source": [
    "X_test_1 = preprocess(X_test)\n",
    "n_classes = 27\n",
    "batch_size = 32"
   ]
  },
  {
   "cell_type": "code",
   "execution_count": 16,
   "metadata": {
    "scrolled": true
   },
   "outputs": [
    {
     "data": {
      "text/plain": [
       "tensorflow.python.framework.ops.EagerTensor"
      ]
     },
     "execution_count": 16,
     "metadata": {},
     "output_type": "execute_result"
    }
   ],
   "source": [
    "type(X_train_1)"
   ]
  },
  {
   "cell_type": "code",
   "execution_count": 17,
   "metadata": {},
   "outputs": [
    {
     "data": {
      "text/plain": [
       "TensorShape([6071, 299, 299, 3])"
      ]
     },
     "execution_count": 17,
     "metadata": {},
     "output_type": "execute_result"
    }
   ],
   "source": [
    "X_train_1.shape"
   ]
  },
  {
   "cell_type": "code",
   "execution_count": 18,
   "metadata": {},
   "outputs": [],
   "source": [
    "base_model = keras.applications.xception.Xception(weights=\"imagenet\",include_top=False)\n",
    "avg = keras.layers.GlobalAveragePooling2D()(base_model.output)\n",
    "output = keras.layers.Dense(n_classes, activation=\"softmax\")(avg)\n",
    "model = keras.models.Model(inputs=base_model.input, outputs=output)"
   ]
  },
  {
   "cell_type": "code",
   "execution_count": 19,
   "metadata": {},
   "outputs": [],
   "source": [
    "for layer in base_model.layers: \n",
    "    layer.trainable = False"
   ]
  },
  {
   "cell_type": "code",
   "execution_count": 20,
   "metadata": {
    "scrolled": false
   },
   "outputs": [
    {
     "data": {
      "text/plain": [
       "TensorShape([6071, 299, 299, 3])"
      ]
     },
     "execution_count": 20,
     "metadata": {},
     "output_type": "execute_result"
    }
   ],
   "source": [
    "X_train_1.shape"
   ]
  },
  {
   "cell_type": "code",
   "execution_count": 21,
   "metadata": {
    "scrolled": true
   },
   "outputs": [
    {
     "data": {
      "text/plain": [
       "6071"
      ]
     },
     "execution_count": 21,
     "metadata": {},
     "output_type": "execute_result"
    }
   ],
   "source": [
    "len(X_train_1)"
   ]
  },
  {
   "cell_type": "code",
   "execution_count": 22,
   "metadata": {
    "scrolled": true
   },
   "outputs": [
    {
     "data": {
      "text/plain": [
       "6071"
      ]
     },
     "execution_count": 22,
     "metadata": {},
     "output_type": "execute_result"
    }
   ],
   "source": [
    "len(y_train)"
   ]
  },
  {
   "cell_type": "code",
   "execution_count": 23,
   "metadata": {
    "scrolled": true
   },
   "outputs": [
    {
     "data": {
      "text/plain": [
       "numpy.ndarray"
      ]
     },
     "execution_count": 23,
     "metadata": {},
     "output_type": "execute_result"
    }
   ],
   "source": [
    "type(y_train)"
   ]
  },
  {
   "cell_type": "code",
   "execution_count": 24,
   "metadata": {},
   "outputs": [
    {
     "data": {
      "text/plain": [
       "27"
      ]
     },
     "execution_count": 24,
     "metadata": {},
     "output_type": "execute_result"
    }
   ],
   "source": [
    "max(y_train)"
   ]
  },
  {
   "cell_type": "code",
   "execution_count": 25,
   "metadata": {},
   "outputs": [],
   "source": [
    "f = lambda x: x-1 if x>0 else x\n",
    "y_train_1 = map(f,y_train)\n",
    "y_test_1 = map(f,y_test)\n",
    "y_val_1 = map(f,y_val)\n",
    "y_train_1 = np.array(list(y_train_1))\n",
    "y_test_1 = np.array(list(y_test_1))\n",
    "y_val_1 = np.array(list(y_val_1))"
   ]
  },
  {
   "cell_type": "code",
   "execution_count": 29,
   "metadata": {
    "scrolled": false
   },
   "outputs": [
    {
     "name": "stdout",
     "output_type": "stream",
     "text": [
      "Epoch 1/2\n",
      "142/142 [==============================] - 338s 2s/step - loss: 0.8038 - accuracy: 0.7951 - val_loss: 0.2993 - val_accuracy: 0.9107\n",
      "Epoch 2/2\n",
      "142/142 [==============================] - 339s 2s/step - loss: 0.2384 - accuracy: 0.9405 - val_loss: 0.2196 - val_accuracy: 0.9509\n"
     ]
    }
   ],
   "source": [
    "base_model = keras.applications.xception.Xception(weights=\"imagenet\",include_top=False)\n",
    "avg = keras.layers.GlobalAveragePooling2D()(base_model.output)\n",
    "output = keras.layers.Dense(n_classes, activation=\"softmax\")(avg)\n",
    "model = keras.models.Model(inputs=base_model.input, outputs=output)\n",
    "\n",
    "for layer in base_model.layers: \n",
    "    layer.trainable = False\n",
    "\n",
    "optimizer = keras.optimizers.SGD(lr=0.2, momentum=0.9, decay=0.01)\n",
    "model.compile(loss=\"sparse_categorical_crossentropy\", optimizer=optimizer,\n",
    "              metrics=[\"accuracy\"])\n",
    "history = model.fit(X_train_1,y=y_train_1,batch_size=batch_size,\n",
    "                    steps_per_epoch=int(0.75 * len(X_train_1) / batch_size),\n",
    "                    validation_data=(X_val_1, y_val_1) ,\n",
    "                    validation_steps=int(0.15 * len(X_val_1) / batch_size),\n",
    "                    epochs=2)\n"
   ]
  },
  {
   "cell_type": "code",
   "execution_count": 32,
   "metadata": {},
   "outputs": [],
   "source": [
    "for layer in base_model.layers: \n",
    "    layer.trainable = True"
   ]
  },
  {
   "cell_type": "code",
   "execution_count": 34,
   "metadata": {},
   "outputs": [
    {
     "name": "stdout",
     "output_type": "stream",
     "text": [
      "Epoch 1/3\n",
      "142/142 [==============================] - 1567s 11s/step - loss: 0.2564 - accuracy: 0.9349 - val_loss: 0.8552 - val_accuracy: 0.7679\n",
      "Epoch 2/3\n",
      "142/142 [==============================] - 1546s 11s/step - loss: 0.0835 - accuracy: 0.9749 - val_loss: 0.0517 - val_accuracy: 0.9777\n",
      "Epoch 3/3\n",
      "142/142 [==============================] - 1502s 11s/step - loss: 0.0429 - accuracy: 0.9874 - val_loss: 0.0656 - val_accuracy: 0.9777\n"
     ]
    }
   ],
   "source": [
    "early_stopping_cb = keras.callbacks.EarlyStopping(patience=10,restore_best_weights=True)\n",
    "optimizer = keras.optimizers.SGD(lr=0.05, momentum=0.9, decay=0.001)\n",
    "model.compile(loss=\"sparse_categorical_crossentropy\", optimizer=optimizer,\n",
    "              metrics=[\"accuracy\"])\n",
    "history2 = model.fit(X_train_1,y=y_train_1,batch_size=batch_size,\n",
    "                    steps_per_epoch=int(0.75 * len(X_train_1) / batch_size),\n",
    "                    validation_data=(X_val_1, y_val_1),\n",
    "                    validation_steps=int(0.15 * len(X_val_1) / batch_size),\n",
    "                    epochs=3,callbacks=[early_stopping_cb])"
   ]
  },
  {
   "cell_type": "code",
   "execution_count": 36,
   "metadata": {},
   "outputs": [],
   "source": [
    "model.save(\"my_keras_model.h5\")"
   ]
  },
  {
   "cell_type": "code",
   "execution_count": 58,
   "metadata": {},
   "outputs": [],
   "source": [
    "y_test = np.array(list(y_test))"
   ]
  },
  {
   "cell_type": "code",
   "execution_count": 63,
   "metadata": {},
   "outputs": [
    {
     "name": "stdout",
     "output_type": "stream",
     "text": [
      "60/60 [==============================] - 137s 2s/step - loss: 0.0653 - accuracy: 0.9821\n",
      "Test loss: 0.06526342034339905\n",
      "Test accuracy: 0.9820864200592041\n"
     ]
    }
   ],
   "source": [
    "score = model.evaluate(X_test_1, y_test_1, verbose=1)\n",
    "print('Test loss:', score[0])\n",
    "print('Test accuracy:', score[1])"
   ]
  },
  {
   "cell_type": "code",
   "execution_count": 68,
   "metadata": {
    "scrolled": false
   },
   "outputs": [
    {
     "name": "stdout",
     "output_type": "stream",
     "text": [
      "1/1 [==============================] - 0s 133ms/step\n",
      "19\n",
      "19\n"
     ]
    }
   ],
   "source": [
    "print(np.argmax(model.predict(np.array([X_test_1[0],]))))\n",
    "print(y_test_1[0])"
   ]
  },
  {
   "cell_type": "code",
   "execution_count": null,
   "metadata": {},
   "outputs": [],
   "source": []
  }
 ],
 "metadata": {
  "kernelspec": {
   "display_name": "Python 3 (ipykernel)",
   "language": "python",
   "name": "python3"
  },
  "language_info": {
   "codemirror_mode": {
    "name": "ipython",
    "version": 3
   },
   "file_extension": ".py",
   "mimetype": "text/x-python",
   "name": "python",
   "nbconvert_exporter": "python",
   "pygments_lexer": "ipython3",
   "version": "3.9.12"
  }
 },
 "nbformat": 4,
 "nbformat_minor": 1
}
